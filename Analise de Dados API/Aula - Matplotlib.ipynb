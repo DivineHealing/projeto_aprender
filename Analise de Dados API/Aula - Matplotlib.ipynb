{
 "cells": [
  {
   "cell_type": "markdown",
   "metadata": {},
   "source": [
    "MATPLOTLIB\n",
    "\n",
    "A biblioteca tem como objetivo gerar visualizações informativas, chamadas de plotagens. Este passo é uma das tarefas mais importantes em análise de dados. Essa tarefa faz parte do processo exploratório, para ajudar a identificar valores discrepantes (outliers) ou transformações necessárias nos dados, ou como uma forma de gerar idéias modelos.\n",
    "\n",
    "O projeto foi criado por John Hunter em 2002 com o intuito de possibilitar uma interface de plotagem do tipo MATLAB em Python. A biblioteca aceita varios vackends de gui em todos os sistemas operacionais e, é capaz de exportar visualizações para todos os vetores comuns e formatos de graficos (PDG, SVG, JPG, PNG, BMP, GIF e etc).\n",
    "\n",
    "+ Figuras e Subplotagens\n",
    "+ Cores, Marcadores e Estilos de linha\n",
    "+ Tiques, Rótulos e Legendas\n",
    "+ Salvando Plotagens em Arquivos\n",
    "+ Configuração da Matplotlib\n",
    "+ Plotagem com o Pandas e Seaborn\n",
    "+ Histogramas e Plotagens de densidade\n",
    "+ Plotagens de dispersão ou de Pontos"
   ]
  },
  {
   "cell_type": "markdown",
   "metadata": {},
   "source": [
    "NÃO FUNCIONA, TEM QUE TER CONEXÃO COM A AULA 2 - PANDAS"
   ]
  },
  {
   "cell_type": "code",
   "execution_count": null,
   "metadata": {},
   "outputs": [],
   "source": [
    "import pandas as pd \n",
    "import sqlite3 as sql\n",
    "conexao = sql.connect('Banco treino.db')"
   ]
  },
  {
   "cell_type": "code",
   "execution_count": null,
   "metadata": {},
   "outputs": [],
   "source": [
    "df_tempo = pd.read_csv('https://github.com/alanjones2/dataviz/raw/master/londonweather.csv')\n",
    "df_tempo.head()"
   ]
  },
  {
   "cell_type": "code",
   "execution_count": null,
   "metadata": {},
   "outputs": [],
   "source": [
    "df_tempo.plot()"
   ]
  },
  {
   "cell_type": "code",
   "execution_count": null,
   "metadata": {},
   "outputs": [],
   "source": [
    "df_tempo.info()"
   ]
  },
  {
   "cell_type": "code",
   "execution_count": null,
   "metadata": {},
   "outputs": [],
   "source": [
    "df_tempo.to_sql('tempo', conexao, if_exists='replace', index=False)"
   ]
  },
  {
   "cell_type": "code",
   "execution_count": null,
   "metadata": {},
   "outputs": [],
   "source": [
    "df_clima_2018 = pd.read_sql('select * from tempo where year = 2018', conexao)\n",
    "df_clima_2018 "
   ]
  },
  {
   "cell_type": "code",
   "execution_count": null,
   "metadata": {},
   "outputs": [],
   "source": [
    "df_clima_89 = pd.read_sql('select * from tempo where year = 1989', conexao)\n",
    "df_clima_89"
   ]
  },
  {
   "cell_type": "code",
   "execution_count": null,
   "metadata": {},
   "outputs": [],
   "source": [
    "ax_2018 = df_clima_2018.plot(x='Month', y='Tmax', marker='o')\n",
    "\n",
    "ax = df_clima_89.plot(x='Month', y='Tmax', color='red', ax=ax_2018)\n",
    "\n",
    "ax.legend(['2018', '1989'])"
   ]
  },
  {
   "cell_type": "code",
   "execution_count": null,
   "metadata": {},
   "outputs": [],
   "source": [
    "ax_2018 = df_clima_2018.plot(x='Month', y='Tmin', marker='o')\n",
    "\n",
    "ax = df_clima_89.plot(x='Month', y='Tmin', color='red', ax=ax_2018)\n",
    "\n",
    "ax.legend(['2018', '1989'])"
   ]
  },
  {
   "cell_type": "code",
   "execution_count": null,
   "metadata": {},
   "outputs": [],
   "source": [
    "df_july = pd.read_sql('SELECT * FROM tempo WHERE month == 6', conexao)"
   ]
  },
  {
   "cell_type": "code",
   "execution_count": null,
   "metadata": {},
   "outputs": [],
   "source": [
    "df_july.sort_values(by=['Tmax'], ascending=False, inplace=True)"
   ]
  },
  {
   "cell_type": "code",
   "execution_count": null,
   "metadata": {},
   "outputs": [],
   "source": [
    "df_july.plot.bar(x='Year', y='Tmax', figsize=(20, 5))"
   ]
  },
  {
   "cell_type": "code",
   "execution_count": null,
   "metadata": {},
   "outputs": [],
   "source": [
    "import seaborn as sns\n",
    "\n",
    "sns.set(rc={'figure.figsize': (16, 6)})"
   ]
  },
  {
   "cell_type": "code",
   "execution_count": null,
   "metadata": {},
   "outputs": [],
   "source": [
    "sns.displot(df_july['Tmax'], kde=True) # HISTOGRAMA | O KDE É A LINHA"
   ]
  },
  {
   "cell_type": "code",
   "execution_count": null,
   "metadata": {},
   "outputs": [],
   "source": [
    "sns.lmplot(data=df_july, x='Tmax', y='Rain')\n",
    "sns.lmplot(data=df_july, x='Tmax', y='Sun')"
   ]
  }
 ],
 "metadata": {
  "kernelspec": {
   "display_name": "base",
   "language": "python",
   "name": "python3"
  },
  "language_info": {
   "codemirror_mode": {
    "name": "ipython",
    "version": 3
   },
   "file_extension": ".py",
   "mimetype": "text/x-python",
   "name": "python",
   "nbconvert_exporter": "python",
   "pygments_lexer": "ipython3",
   "version": "3.12.7"
  }
 },
 "nbformat": 4,
 "nbformat_minor": 2
}
