{
 "cells": [
  {
   "cell_type": "markdown",
   "metadata": {},
   "source": [
    "<h3>Pandas</h3>\n",
    "O Pandas contem estruturas de dados e ferramentas para manipulação de dados, projetadas para agilizar e facilitar a limpeza e a analise de dados em Python.<br>\n",
    "\n",
    "O Pandas adota o estilo idiomatico do NumPy para processamento baseado em arrays, especialmente funções baseadas em arrays e uma preferencia por processamento de dados sem laços.\n",
    "A principal diferença do pandas para o NumPy, é que o pandas foi projetado para trabalhar com dados tabulares e heterogeneos. O NumPy em comparação, é mais apropriado para trabalhar com dados numericos homogeneos em arrays.<br>\n",
    "\n",
    "Desde que se tornou um projeto de codigo aberto em 2010, o pandas amadureceu e passou a ser uma biblioteca grande, aplicavel a um amplo conjunto de casos de uso do mundo real. A Comunidade de desenvolvimento global ja conta com mais de 800 colaboradores distintos.<br>\n",
    "\n",
    "<b>Conceitos do Pandas:</b>\n",
    "\n",
    "+ Estrutura de Dados do Pandas (Series, DataFrame, Objetos Index)\n",
    "+ Reindexação, Indexação, seleção e filtragem\n",
    "+ Descartando entradas de um eixo\n",
    "+ Aritmetica e alinhamento de dados\n",
    "+ Aplicação de funções e mapeamento\n",
    "+ Ordenação e classificação\n",
    "+ Resumindo e Calculando estatisticas descritivas\n",
    "+ Cargas de dados, armazenagem e formatos de arquivo.\n",
    "+ Lendo e escrevendo dados em formato-texto\n",
    "+ HTML: Web Scraping\n",
    "+ Interagindo com banco de dados\n",
    "+ Tratando dados ausentes\n",
    "+ transformando dados usando uma função ou mapeamento\n",
    "+ Substituindo valores\n",
    "\n",
    "<h5>ESTRUTURA DE DADOS</h5>\n",
    "\n",
    "<b>Series</b>\n",
    "Uma series e um objeto do tipo array unidimensional contendo uma sequencia de valores (de tipos semelhantes aos tipos do NumPy) e um array associado de rotulos (labels) de dados, chamado de indice. A Series mais simples e composta de apenas um array de todos:\n",
    "Usar funções NumPy ou operações do tipo NumPy, como fultragem com um array booleano, multiplicação escalar ou aplicação de funções matematicas, preservará a ligação entre indice e valor.<br>\n",
    "\n",
    "<b>DataFrame</b>\n",
    "Um DataFrame representa uma tabela de dados retangular e contem uma coleção ordenada de colunas, em que cada uma pode ter um tipo de valor diferente( numerico, string, booleano e etc.)<br>\n",
    "O DataFrame tem índice tanto para linha quanto para coluna;<br>\n",
    "pode ser imaginado como um dicionario de Series, todos compartilhando o mesmo indice. Internamente, os dados são armazenados como um ou mais blocos bidimensionais em vez de serem armazenados como uma lista, um dicionario ou outra coleção de arrays unidimensionais.<br>\n",
    "Pode-se fazer uma analogia do DataFrame com uma planilha do Excel em Memoria!<br>"
   ]
  },
  {
   "cell_type": "code",
   "execution_count": 1,
   "metadata": {},
   "outputs": [],
   "source": [
    "import pandas as pd \n",
    "import sqlite3 as sql"
   ]
  },
  {
   "cell_type": "code",
   "execution_count": null,
   "metadata": {},
   "outputs": [],
   "source": [
    "df_cardio = pd.read_json('cardio.json')\n",
    "df_cardio"
   ]
  },
  {
   "cell_type": "code",
   "execution_count": null,
   "metadata": {},
   "outputs": [],
   "source": [
    "type(df_cardio)"
   ]
  },
  {
   "cell_type": "code",
   "execution_count": null,
   "metadata": {},
   "outputs": [],
   "source": [
    "type(df_cardio['Calories'])"
   ]
  },
  {
   "cell_type": "code",
   "execution_count": null,
   "metadata": {},
   "outputs": [],
   "source": [
    "type(df_cardio.index)"
   ]
  },
  {
   "cell_type": "code",
   "execution_count": null,
   "metadata": {},
   "outputs": [],
   "source": [
    "df_cardio.head()"
   ]
  },
  {
   "cell_type": "code",
   "execution_count": null,
   "metadata": {},
   "outputs": [],
   "source": [
    "df_cardio.drop(columns=['Maxpulse'])"
   ]
  },
  {
   "cell_type": "code",
   "execution_count": null,
   "metadata": {},
   "outputs": [],
   "source": [
    "df_cardio * 3\n",
    "df_cardio / df_cardio\n",
    "df_cardio + df_cardio"
   ]
  },
  {
   "cell_type": "code",
   "execution_count": null,
   "metadata": {},
   "outputs": [],
   "source": [
    "df_cardio.describe()"
   ]
  },
  {
   "cell_type": "code",
   "execution_count": null,
   "metadata": {},
   "outputs": [],
   "source": [
    "df_cardio.info()"
   ]
  },
  {
   "cell_type": "code",
   "execution_count": null,
   "metadata": {},
   "outputs": [],
   "source": [
    "df_cardio['Calories'] = df_cardio['Calories'].fillna(0) # Preenche os valores com 0\n",
    "df_cardio['Calories'] = df_cardio['Calories'].fillna(df_cardio['Calories'].mean()) # Preenche os valores com a media\n",
    "df_cardio.info()"
   ]
  },
  {
   "cell_type": "code",
   "execution_count": null,
   "metadata": {},
   "outputs": [],
   "source": [
    "df_cardio.corr()"
   ]
  },
  {
   "cell_type": "code",
   "execution_count": null,
   "metadata": {},
   "outputs": [],
   "source": [
    "df_cardio.cov()"
   ]
  },
  {
   "cell_type": "code",
   "execution_count": 13,
   "metadata": {},
   "outputs": [
    {
     "name": "stdout",
     "output_type": "stream",
     "text": [
      "<class 'pandas.core.frame.DataFrame'>\n",
      "RangeIndex: 120 entries, 0 to 119\n",
      "Data columns (total 8 columns):\n",
      " #   Column    Non-Null Count  Dtype \n",
      "---  ------    --------------  ----- \n",
      " 0   Concurso  120 non-null    int64 \n",
      " 1   Data      120 non-null    object\n",
      " 2   bola 1    120 non-null    int64 \n",
      " 3   bola 2    120 non-null    int64 \n",
      " 4   bola 3    120 non-null    int64 \n",
      " 5   bola 4    120 non-null    int64 \n",
      " 6   bola 5    120 non-null    int64 \n",
      " 7   bola 6    120 non-null    int64 \n",
      "dtypes: int64(7), object(1)\n",
      "memory usage: 7.6+ KB\n"
     ]
    }
   ],
   "source": [
    "df_ibov = pd.read_csv('megasena2024.csv', sep=';', index_col=False)\n",
    "df_ibov.info()\n",
    "\n",
    "# O inplace=True SERVE PARA MANIPULAR A TABELA DE FORMA PERMANENTE, OU SEJA, SE EU FIZER MODIFICAÇÕES COM O COMANDO ATIVO, VAI ALTERAR MINHA ESTRUTURA DA TABELA INTEIRA."
   ]
  },
  {
   "cell_type": "code",
   "execution_count": null,
   "metadata": {},
   "outputs": [],
   "source": [
    "df_ibov.value_counts('bola 1')"
   ]
  },
  {
   "cell_type": "code",
   "execution_count": null,
   "metadata": {},
   "outputs": [],
   "source": [
    "df_ibov.rename(columns={\n",
    "    'Date':'Data',\n",
    "    'Open':'Abertura'\n",
    "}, inplace=True)"
   ]
  },
  {
   "cell_type": "code",
   "execution_count": null,
   "metadata": {},
   "outputs": [],
   "source": [
    "df_ibov.describe(include='all')"
   ]
  },
  {
   "cell_type": "code",
   "execution_count": null,
   "metadata": {},
   "outputs": [],
   "source": [
    "df_ibov.info()"
   ]
  },
  {
   "cell_type": "code",
   "execution_count": null,
   "metadata": {},
   "outputs": [],
   "source": [
    "pd.to_numeric(df_ibov['Volume'])"
   ]
  },
  {
   "cell_type": "code",
   "execution_count": null,
   "metadata": {},
   "outputs": [],
   "source": [
    "df_ibov['qtde_teorica'] = df_ibov['qtde_teorica'].str.replace('.', '').astype(float)"
   ]
  },
  {
   "cell_type": "code",
   "execution_count": null,
   "metadata": {},
   "outputs": [],
   "source": [
    "df_ibov['open'] = df_ibov['open'].str.replace('.', ',').astype(float)\n",
    "# CONVERTE UM STRING PARA UM VALOR FLOAT\n"
   ]
  },
  {
   "cell_type": "code",
   "execution_count": null,
   "metadata": {},
   "outputs": [],
   "source": [
    "df_ibov.info()"
   ]
  },
  {
   "cell_type": "code",
   "execution_count": null,
   "metadata": {},
   "outputs": [],
   "source": [
    "df_ibov.loc(df_ibov['participacao'] > 5)"
   ]
  },
  {
   "cell_type": "code",
   "execution_count": null,
   "metadata": {},
   "outputs": [],
   "source": [
    "\n",
    "df_ibov.loc(df_ibov['participacao'] > 2) & df_ibov.loc(df_ibov['participacao'] < 5)"
   ]
  },
  {
   "cell_type": "code",
   "execution_count": null,
   "metadata": {},
   "outputs": [],
   "source": [
    "df_estatistica = df_ibov.describe(include='all')\n",
    "type(df_estatistica)"
   ]
  },
  {
   "cell_type": "code",
   "execution_count": null,
   "metadata": {},
   "outputs": [],
   "source": [
    "conexao = sql.connect('cad_vend.db')\n",
    "df_estatistica.to_sql('estatistica', conexao)"
   ]
  },
  {
   "cell_type": "code",
   "execution_count": null,
   "metadata": {},
   "outputs": [],
   "source": [
    "df_ibov.to_sql('ibov', conexao, if_exists='replace')\n",
    "df_cardio.to_sql('cardio', conexao, if_exists='replace', index=False)"
   ]
  }
 ],
 "metadata": {
  "kernelspec": {
   "display_name": "base",
   "language": "python",
   "name": "python3"
  },
  "language_info": {
   "codemirror_mode": {
    "name": "ipython",
    "version": 3
   },
   "file_extension": ".py",
   "mimetype": "text/x-python",
   "name": "python",
   "nbconvert_exporter": "python",
   "pygments_lexer": "ipython3",
   "version": "3.12.7"
  }
 },
 "nbformat": 4,
 "nbformat_minor": 2
}
