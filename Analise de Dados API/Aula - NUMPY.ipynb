{
 "cells": [
  {
   "cell_type": "markdown",
   "metadata": {},
   "source": [
    "NUMPY é uma abreviatura de Numerical Python, é um dos pacotes básicos mais importante para processamento NUMERICO EM PYTHON.\n",
    "\n",
    "Principais recursos do NumPy:\n",
    "\n",
    "+ ndarray: um array multidimensional eficaz que oferece operações aritmeticas rapídas, orentadas a arrays;\n",
    "+ funções maatematicas para operações rapidas em arrays de dados inteiros sem que seja necessario escrever laços;\n",
    "+ ferramentas para ler/escrever dados de array em disco e trabalhar com arquivos mapeados em memoria;\n",
    "+ Recursos de algebra linear, geração de números aleatórias e transformadas de Fourier;\n",
    "+ Uma API C para conectar o NumPy a bibliotecas escritas em C, C++ ou FORTRAN.\n",
    "\n",
    "Para aplicação de analise de Dados:\n",
    "+ Operações rapidas em arrays vetorizados para tratamento e limpeza de dados, geração de subconjuntos e filtragem, transformações e outros tipos de processamento;\n",
    "+ Algoritmos comuns para arrays como ordenação, unicidade e operações de conjunto;\n",
    "+ Estatisticas descritas eficazes e agregação/sintetização de dados;\n",
    "+ Alinhamento de dados e manipulação de dados relacionais para combinar e juntar conjunto de dados heterogeneos;\n",
    "+ Expressão de logica condicional na forma de expressões de array em vez de laços com ramos if-elif-else;\n",
    "+ Manipulação de dados em grupos(agregação, transformaçõese aplicação de funções)"
   ]
  },
  {
   "cell_type": "code",
   "execution_count": 14,
   "metadata": {},
   "outputs": [],
   "source": [
    "import numpy as np "
   ]
  },
  {
   "cell_type": "code",
   "execution_count": 15,
   "metadata": {},
   "outputs": [
    {
     "data": {
      "text/plain": [
       "array([[-0.93187529, -1.36840154,  0.64423841],\n",
       "       [ 0.14912564, -0.22327963,  2.03997392]])"
      ]
     },
     "execution_count": 15,
     "metadata": {},
     "output_type": "execute_result"
    }
   ],
   "source": [
    "data = np.random.randn(2, 3)\n",
    "data"
   ]
  },
  {
   "cell_type": "code",
   "execution_count": null,
   "metadata": {},
   "outputs": [],
   "source": [
    "data * 10"
   ]
  },
  {
   "cell_type": "code",
   "execution_count": null,
   "metadata": {},
   "outputs": [],
   "source": [
    "data + data"
   ]
  },
  {
   "cell_type": "code",
   "execution_count": null,
   "metadata": {},
   "outputs": [],
   "source": [
    "data.shape\n",
    "\n",
    "# Verifica a forma do Array"
   ]
  },
  {
   "cell_type": "code",
   "execution_count": null,
   "metadata": {},
   "outputs": [],
   "source": [
    "#\n",
    "\n",
    "np.zeros(5)"
   ]
  },
  {
   "cell_type": "markdown",
   "metadata": {},
   "source": [
    "INDEXAÇÃO E FATIAMENTO"
   ]
  },
  {
   "cell_type": "code",
   "execution_count": null,
   "metadata": {},
   "outputs": [],
   "source": [
    "arr = np.arange(10)\n",
    "arr"
   ]
  },
  {
   "cell_type": "code",
   "execution_count": null,
   "metadata": {},
   "outputs": [],
   "source": [
    "arr[6]"
   ]
  },
  {
   "cell_type": "code",
   "execution_count": null,
   "metadata": {},
   "outputs": [],
   "source": [
    "arr[5:8]"
   ]
  },
  {
   "cell_type": "code",
   "execution_count": 17,
   "metadata": {},
   "outputs": [
    {
     "data": {
      "text/plain": [
       "array([ 0.14912564, -0.22327963])"
      ]
     },
     "execution_count": 17,
     "metadata": {},
     "output_type": "execute_result"
    }
   ],
   "source": [
    "# array bidimencional, uma matriz, consultamos linha, coluna\n",
    "data[1][0:2]"
   ]
  },
  {
   "cell_type": "code",
   "execution_count": null,
   "metadata": {},
   "outputs": [],
   "source": [
    "data.T"
   ]
  },
  {
   "cell_type": "markdown",
   "metadata": {},
   "source": [
    "FUNÇÕES UNIVERSAIS"
   ]
  },
  {
   "cell_type": "code",
   "execution_count": null,
   "metadata": {},
   "outputs": [],
   "source": [
    "np.sqrt(arr)"
   ]
  },
  {
   "cell_type": "code",
   "execution_count": null,
   "metadata": {},
   "outputs": [],
   "source": [
    "np.exp(arr)"
   ]
  },
  {
   "cell_type": "code",
   "execution_count": null,
   "metadata": {},
   "outputs": [],
   "source": [
    "data2 = np.random.rand(2, 3)\n",
    "data2"
   ]
  },
  {
   "cell_type": "code",
   "execution_count": null,
   "metadata": {},
   "outputs": [],
   "source": [
    "data3 = np.maximum(data, data2)\n",
    "data3"
   ]
  },
  {
   "cell_type": "code",
   "execution_count": null,
   "metadata": {},
   "outputs": [],
   "source": [
    "print(data3.sum())\n",
    "print(data3.mean())\n",
    "print(data3.cumprod())"
   ]
  },
  {
   "cell_type": "code",
   "execution_count": null,
   "metadata": {},
   "outputs": [],
   "source": [
    "data.sort()\n",
    "data"
   ]
  },
  {
   "cell_type": "code",
   "execution_count": 10,
   "metadata": {},
   "outputs": [],
   "source": [
    "data = np.random.randn(2, 3)"
   ]
  },
  {
   "cell_type": "code",
   "execution_count": 12,
   "metadata": {},
   "outputs": [
    {
     "ename": "AttributeError",
     "evalue": "'numpy.ndarray' object has no attribute 'array'",
     "output_type": "error",
     "traceback": [
      "\u001b[1;31m---------------------------------------------------------------------------\u001b[0m",
      "\u001b[1;31mAttributeError\u001b[0m                            Traceback (most recent call last)",
      "Cell \u001b[1;32mIn[12], line 1\u001b[0m\n\u001b[1;32m----> 1\u001b[0m data\u001b[38;5;241m.\u001b[39marray([[\u001b[38;5;241m-\u001b[39m\u001b[38;5;241m0.46861928\u001b[39m, \u001b[38;5;241m-\u001b[39m\u001b[38;5;241m0.34678617\u001b[39m,  \u001b[38;5;241m1.24901699\u001b[39m],\n\u001b[0;32m      2\u001b[0m \n\u001b[0;32m      3\u001b[0m        [\u001b[38;5;241m-\u001b[39m\u001b[38;5;241m2.06738552\u001b[39m, \u001b[38;5;241m-\u001b[39m\u001b[38;5;241m0.15010294\u001b[39m,  \u001b[38;5;241m2.29204945\u001b[39m]])\n\u001b[0;32m      5\u001b[0m data[\u001b[38;5;241m1\u001b[39m][\u001b[38;5;241m0\u001b[39m:\u001b[38;5;241m2\u001b[39m]\n",
      "\u001b[1;31mAttributeError\u001b[0m: 'numpy.ndarray' object has no attribute 'array'"
     ]
    }
   ],
   "source": [
    "data.array([[-0.46861928, -0.34678617,  1.24901699],\n",
    "\n",
    "       [-2.06738552, -0.15010294,  2.29204945]])\n",
    "\n",
    "data[1][0:2]"
   ]
  }
 ],
 "metadata": {
  "kernelspec": {
   "display_name": "base",
   "language": "python",
   "name": "python3"
  },
  "language_info": {
   "codemirror_mode": {
    "name": "ipython",
    "version": 3
   },
   "file_extension": ".py",
   "mimetype": "text/x-python",
   "name": "python",
   "nbconvert_exporter": "python",
   "pygments_lexer": "ipython3",
   "version": "3.12.7"
  }
 },
 "nbformat": 4,
 "nbformat_minor": 2
}
