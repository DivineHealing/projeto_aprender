{
 "cells": [
  {
   "cell_type": "markdown",
   "metadata": {},
   "source": [
    "O Logging é um meio de rastrear eventos que acontecem quando algum software é executado. Ele tem como objetivo adicionar chamadas de registro no codigo para indicar que certos eventos ocorreram. <br>\n",
    "\n",
    "Um evento é descrito por uma mensagem descritiva que pode conter opcionalmente dados e cariaveis (ou seja, dados que são diferentes para cada ocorrencia do evento).  <br>\n",
    "\n",
    "Os eventos tambem tem uma importancia, que pode ser chamada de Level ou gravidade. <br>\n",
    "Os levels são <b>debug(), info(), warning(), error() e critical()</b>.\n",
    "\n",
    "Para determinar quando usar logging, consulte a tabela, qual estado, para cada conjunto de tarefas comuns, qual a melhor ferramenta pra usar.  <strong>(PS: imagem LOGGING TABELA) </strong><br>\n"
   ]
  },
  {
   "cell_type": "code",
   "execution_count": null,
   "metadata": {
    "vscode": {
     "languageId": "plaintext"
    }
   },
   "outputs": [],
   "source": []
  },
  {
   "cell_type": "code",
   "execution_count": null,
   "metadata": {
    "vscode": {
     "languageId": "plaintext"
    }
   },
   "outputs": [],
   "source": []
  }
 ],
 "metadata": {
  "language_info": {
   "name": "python"
  }
 },
 "nbformat": 4,
 "nbformat_minor": 2
}
