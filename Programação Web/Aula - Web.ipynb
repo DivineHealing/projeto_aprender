{
 "cells": [
  {
   "cell_type": "markdown",
   "metadata": {},
   "source": [
    "• Arquitetura Cliente/Servidor <br>\n",
    "• Protocolos de Rede <br>\n",
    "• Modelos de Requisições <br>\n",
    "• Endereçamento IP/Dominio/DNS <br>\n",
    "• Servidores de APlicação <br>\n",
    "• <b>Browser </b><br>\n",
    "• <b>Aplicação Web (HTML, CSS e JavaScript) </b><br>\n",
    "• Desenvolvimento back-end e front-end <br>\n",
    "\n",
    "<strong>PROGRAMAÇÃO RESPONSIVA</strong><BR>\n",
    "<BR>\n",
    "Nos início do desenvilvimento web, páginas eram criadas para serem visualizadas em um tamanho de tela especifíco. A medida que diferentes tamanhos de tela foram aparecendo, surgiu o conceito de web design responsivo (RWD), um conjunto de práticas que permite que <b>páginas da web alterem seu layout e aparencia para se adequarem a diferentes larguras, resoluções.</b><br>\n",
    "É uma ideia que mudou a forma de como projetamos apra a Web com múltiplos dispositivos.<br>\n",
    "<br>\n",
    "A maior biblioteca web para programação responsiva é a <b>Bootstrap</b>. Ele é um framework web com código-fonte aberto para desenvolvimento de componentes de interface e front-end para sites e aplicações web, com objetivo de melhorar a experiência do usuario (UX) e deixar as páginas mais amigável e <b>responsivas</b>.\n",
    "<br>\n",
    "Para tal efeito as programações web usam um sistema de Grid dividindo as paginas com linhas e colunas.<br>\n",
    "\n",
    "\n"
   ]
  },
  {
   "cell_type": "code",
   "execution_count": null,
   "metadata": {},
   "outputs": [],
   "source": []
  }
 ],
 "metadata": {
  "kernelspec": {
   "display_name": "base",
   "language": "python",
   "name": "python3"
  },
  "language_info": {
   "name": "python",
   "version": "3.12.7"
  }
 },
 "nbformat": 4,
 "nbformat_minor": 2
}
