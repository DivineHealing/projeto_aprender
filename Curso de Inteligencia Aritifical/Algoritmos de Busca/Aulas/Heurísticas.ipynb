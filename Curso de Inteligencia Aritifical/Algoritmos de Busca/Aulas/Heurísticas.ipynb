{
 "cells": [
  {
   "cell_type": "markdown",
   "metadata": {},
   "source": [
    "<h2><strong>Heurísticas</strong></2>"
   ]
  },
  {
   "cell_type": "markdown",
   "metadata": {},
   "source": [
    "Escolher a melhor jogada no Xadrez\n",
    "+ 10<sup>56</sup> – 1 seguido de 56 zeros\n",
    "+ Superior ao número de eletóns no universo.\n",
    "\n",
    "A Heurística é uma maneira para resolver um problema;\n",
    "+ Problemas diferentes, vão ter heurísticas diferentes, e eles vão indicar as escolhas que a máquina deve indicar as escolhas que a máquina deve priorizar.\n",
    "Você faz uma aplicação de uma Heurística, que na pratica é um calculo matematico, e esse calculo irá verificar e indicar qual a melhor direção que deve seguir, para resolução do problema, sem ter que checar todas as possibilidades.<br>\n",
    "Tecnicas de ajuda a descoberta;\n",
    "+ Para descobrir os melhores caminhos e muito parecido com essa ideia, daquela brincadeira, Quente ou Frio.\n",
    "    + A brincadeira consiste em esconder um objeto, uma outra pessoa de olhos vendados procura esse objeto, apenas pelas indicações de Quente ou Frio (Perto ou Longe)\n",
    "\n",
    "<em>Continuação na Aula de vetores Ordenados</em>"
   ]
  }
 ],
 "metadata": {
  "language_info": {
   "name": "python"
  }
 },
 "nbformat": 4,
 "nbformat_minor": 2
}
