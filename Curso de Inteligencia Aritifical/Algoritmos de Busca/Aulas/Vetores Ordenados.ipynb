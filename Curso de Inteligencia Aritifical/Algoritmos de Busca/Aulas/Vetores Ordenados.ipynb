{
 "cells": [
  {
   "cell_type": "markdown",
   "metadata": {},
   "source": [
    "<h2><strong>Estrutura de Dados: Vetores Ordenados</strong></2>"
   ]
  },
  {
   "cell_type": "markdown",
   "metadata": {},
   "source": [
    "Os dados estão organizados na ordem ascendente de valores-chave, ou seja, com o menor valor no índice 0 e cada célula mantendo um valor maior que a célula abaixo.<br>\n",
    "+ Vantagem: Agiliza os tempos de pesquisa, tanto pesquisa linear como a pesquisa binaria.\n",
    "\n",
    "+ Pesquisar uma media de n/2 elementos (pesquisa linear)\n",
    "    + pior caso: N (percorrer todos os elementos)\n",
    "+ Mover os elementos restantes (n/2 passos)\n",
    "    + pior caso: N (mover todos os elementos)\n",
    "\n",
    "Big-O - O(2n) = 0(n)\n",
    "\n",
    "A pesquisa termina quando o primeiro item maior que o valor de pesquisa é atingido.<br>\n",
    "Como o vetor está ordenado, o algoritmo sabe que não há necessidade de procurar mais. <br>\n",
    "+ Pior caso: Se o elemento não estiver no vetor ou na ultima posição.\n",
    "Big-O – 0(n)\n",
    "+ Visualização online\n",
    "    + https://www.cs.usfca.edu/~galles/visualization/Search.html\n",
    "\n",
    "Algoritmos de exclusão, pode terminar na metade do caminho se não encontrar o item.<br>\n",
    "+ Pesquisar uma media de n/2 elementos (pesquisa linear)\n",
    "    + pior caso: N (percorrer todos os elementos)\n",
    "+ Mover os elementos restantes (n/2 passos)\n",
    "    + pior caso: N (mover todos os elementos)\n",
    "\n",
    "Big-O - O(2n) = 0(n)"
   ]
  },
  {
   "cell_type": "code",
   "execution_count": null,
   "metadata": {},
   "outputs": [],
   "source": [
    "import numpy as np"
   ]
  },
  {
   "cell_type": "code",
   "execution_count": null,
   "metadata": {},
   "outputs": [],
   "source": [
    "class VetorOrdenado:\n",
    "    def __init__(self, capacidade):\n",
    "        self.capacidade = capacidade\n",
    "        self.ultima_posicao = -1\n",
    "        self.valores = np.empty(self.capacidade, dtype=int)\n",
    "    \n",
    "    # O(n)\n",
    "    def imprime(self):\n",
    "        if self.ultima_posicao == -1:\n",
    "            print('O vetor está vazio')\n",
    "        else:\n",
    "            for i in range(self.ultima_posicao + 1):\n",
    "                print(i, '-', self.valores[i])\n",
    "                \n",
    "    # O(n)\n",
    "    def insere(self, valor):\n",
    "        if self.ultima_posicao == self.capacidade - 1:\n",
    "            print('Capacidade maxima atingida')\n",
    "            return\n",
    "        \n",
    "        posicao = 0\n",
    "        for i in range(self.ultima_posicao + 1):\n",
    "            posicao = i\n",
    "            if self.valores[i] > valor:\n",
    "                break\n",
    "            if i == self.ultima_posicao:\n",
    "                posicao = i + 1\n",
    "            \n",
    "        x = self.ultima_posicao\n",
    "        while x >= posicao:\n",
    "            self.valores[x + 1] = self.valores[x]\n",
    "            x -= 1\n",
    "        \n",
    "        self.valores[posicao] = valor\n",
    "        self.ultima_posicao += 1"
   ]
  },
  {
   "cell_type": "code",
   "execution_count": null,
   "metadata": {},
   "outputs": [],
   "source": [
    "vetor = VetorOrdenado(10)\n",
    "vetor.imprime()"
   ]
  },
  {
   "cell_type": "code",
   "execution_count": null,
   "metadata": {},
   "outputs": [],
   "source": [
    "vetor.insere(1)\n",
    "vetor.insere(2)\n",
    "vetor.insere(3)\n",
    "vetor.insere(4)\n",
    "vetor.insere(5)\n",
    "vetor.imprime()"
   ]
  },
  {
   "cell_type": "code",
   "execution_count": null,
   "metadata": {},
   "outputs": [],
   "source": [
    "vetor.insere(81)\n",
    "vetor.imprime()"
   ]
  }
 ],
 "metadata": {
  "kernelspec": {
   "display_name": "base",
   "language": "python",
   "name": "python3"
  },
  "language_info": {
   "codemirror_mode": {
    "name": "ipython",
    "version": 3
   },
   "file_extension": ".py",
   "mimetype": "text/x-python",
   "name": "python",
   "nbconvert_exporter": "python",
   "pygments_lexer": "ipython3",
   "version": "3.12.7"
  }
 },
 "nbformat": 4,
 "nbformat_minor": 2
}
