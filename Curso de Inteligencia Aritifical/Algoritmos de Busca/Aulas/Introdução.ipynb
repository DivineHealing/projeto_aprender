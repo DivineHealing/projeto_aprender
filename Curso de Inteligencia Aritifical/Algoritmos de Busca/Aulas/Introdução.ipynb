{
 "cells": [
  {
   "cell_type": "markdown",
   "metadata": {},
   "source": [
    "<h3><strong>Curso de Inteligencia Artificial e Machine Learn</strong></h3>"
   ]
  },
  {
   "cell_type": "markdown",
   "metadata": {},
   "source": [
    "<h5>Algoritmos inteligentes de Busca</h5>\n",
    "\n",
    "+ Irei aprender sobre a definição de problemas e soluções como o que você pode representar um problema, quais são os componentes para você representar um problema em IA.\n",
    "+ Trabalhar com os mapas das cidades, pois um dos estudos de caso será encontrar a menor distância entre cidades.\n",
    "    + Usaremos conceito de Heurísticas\n",
    "    + Implementar Busca Gulosa\n",
    "    + Implementar Busca A Estrela (A*)\n",
    "        + Foi quem deu a ideia para o funcionamento de sistema de GPS.\n",
    "        + Muito utilizado em jogos, para questões como um bot iria te perseguir ou cumprir um trajeto.\n",
    "+ Aulas adicionais sobre Estrutura de Dados (vetores)\n",
    "\n",
    "<h6>Componentes de um problema</h6>\n",
    "Nessa parte veremos uma introdução à resolução de problemas utilizando algoritmos de busca, e entender os componentes de um problema.\n",
    "\n",
    "<Strong>Componentes de um Problema:</strong>\n",
    "\n",
    "+ Estado Inicial - ponto de partida\n",
    "+ Estado Final (objetivo) - Objetivo onde nos queremos chegar\n",
    "+ Espaço de Estados - Todas as soluções possiveis entre o estado inicial e o estado final.\n",
    "+ Ações para passar de um estado para outro\n",
    "+ Solução - Caminho que leva do estado inicial ao estado final\n",
    "\n",
    "Imagem sobre o problema 1: Ir de **Arad** até **Bucharest**.<br>\n",
    "<br>\n",
    "<img src=\"imagens/Problema 1.jpg\" width=\"679\" height=\"452\">\n",
    "\n",
    "Imagem sobre o problema 2: Jogo das peças (8-puzzle).<br>\n",
    "<br>\n",
    "<img src=\"imagens/Problema 2.png\" width=\"452\" height=\"452\">\n",
    "\n",
    "Imagem sobre o problema 3: Jogo da Velha.<br>\n",
    "<br>\n",
    "<img src=\"imagens/Problema 3.png\" width=\"452\" height=\"452\">"
   ]
  }
 ],
 "metadata": {
  "kernelspec": {
   "display_name": "base",
   "language": "python",
   "name": "python3"
  },
  "language_info": {
   "codemirror_mode": {
    "name": "ipython",
    "version": 3
   },
   "file_extension": ".py",
   "mimetype": "text/x-python",
   "name": "python",
   "nbconvert_exporter": "python",
   "pygments_lexer": "ipython3",
   "version": "3.12.7"
  }
 },
 "nbformat": 4,
 "nbformat_minor": 2
}
