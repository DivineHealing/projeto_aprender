{
 "cells": [
  {
   "cell_type": "markdown",
   "metadata": {},
   "source": [
    "<h2><strong>Lógica Difusa (Fuzzy)</strong></h2>\n",
    "\n",
    "+ Teoria;\n",
    "    - Eu vou fazer a compra de um produto X, esse produto vai ter um preço e o beneficio desse produto:\n",
    "        - se o produto tem custo **baixo** e beneficio **alto**, então o custo-beneficio desse produto é **alto**.\n",
    "            - se custo-alto < 0,2 e beneficio-alto > 0,8 então custo-beneficio **alto**\n",
    "                + Custo-alto = um pouco falso\n",
    "        - se o produto tem custo **alto** e beneficio **alto**, então o custo-beneficio desse produto é **medio**.\n",
    "        - se o produto tem custo **baixo** e beneficio **baixo**, então o custo-beneficio desse produto é **medio**.\n",
    "        - se o produto tem custo **alto** e beneficio **baixo**, então o custo-beneficio desse produto é **baixo**.\n",
    "\n",
    "        + Representação do problema por um copo de agua.\n",
    "            - A Logica booleana representa um copo como cheio ou como vazio, porem sabemos que esse copo pode estar um *pouco cheio* ou um *pouco vazio*.\n",
    "            - A Logica Fuzzy ela ja considera que o copo pode estar meio cheio, ou meio vazio.\n",
    "        \n",
    "+ Implementação com a Biblioteca <em>skfuzzy</em>;\n",
    "+ Tarefa com outros tipos de funções.\n",
    "\n",
    "+ Temos maneiras variadas de representar os graficos da logica fuzzy, sendo eles o Triangulo, Trapezoid, Signoid (Exponencial) e a Shouldered Trapezoid."
   ]
  }
 ],
 "metadata": {
  "language_info": {
   "name": "python"
  }
 },
 "nbformat": 4,
 "nbformat_minor": 2
}
