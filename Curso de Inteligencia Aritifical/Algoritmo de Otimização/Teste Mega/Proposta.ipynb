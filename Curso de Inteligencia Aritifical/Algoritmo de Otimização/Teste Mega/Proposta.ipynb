{
 "cells": [
  {
   "cell_type": "markdown",
   "metadata": {},
   "source": [
    "<h2>Proposta de Estudo</h2>\n",
    "\n",
    "Considerar o jogo da mega-sena, que possui 6 numeros, e que precisam ser sorteados dentre uma quantia de 60 numeros.\n",
    "\n",
    "Caracteristicas:\n",
    "+ Sorteio de 6 Numeros\n",
    "+ Os numeros devem ter a maior chance de acerto, de acordo com a base de sorteios ja feitos;\n",
    "\n",
    "Objetivo:\n",
    "+ Obter uma chance de acerto de 80%.\n",
    "\n",
    "Considerações:\n",
    "+ Espaço da representação deve estar entre 1 e 60, sendo ao todo 6 numeros, com as possibilidades de 1 a 60.\n",
    "+ Considerar para a representação do problema:\n",
    "    + [0, 1, 2, 0, 1, 2]\n",
    "    + 2 = Numero muito sorteado\n",
    "    + 1 = Numero consideravelmente sorteavel\n",
    "    + 0 = Nujmero Pouco Sorteado\n",
    "+ Fazer nos três algoritmos, para buscar o melhor resultado.\n",
    "\n",
    "<h4>Objetivo do exercicio</h4>\n",
    "\n",
    "+ Conseguir acertar a maior probabilidade de sucesso.\n",
    "\n"
   ]
  }
 ],
 "metadata": {
  "language_info": {
   "name": "python"
  }
 },
 "nbformat": 4,
 "nbformat_minor": 2
}
