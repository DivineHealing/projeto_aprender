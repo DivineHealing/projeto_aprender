{
 "cells": [
  {
   "cell_type": "code",
   "execution_count": null,
   "metadata": {},
   "outputs": [],
   "source": [
    "from selenium import webdriver\n",
    "from selenium.webdriver.common.keys import Keys\n",
    "import time\n",
    "from selenium.webdriver.common.by import By\n",
    "from selenium.webdriver.support.ui import WebDriverWait\n",
    "from selenium.webdriver.support import expected_conditions as EC\n",
    "from webdriver_manager.chrome import ChromeDriverManager\n",
    "from urllib.parse import quote # para garantir que a mensagem seja codificada corretamente\n",
    "\n",
    "# Função p enviar uma mensagem para um nmr\n",
    "def enviar_mensagem(numero, mensagem):\n",
    "    # Codificando a mensagem p garantir que não haja problemas com caracteres especiais\n",
    "    mensagem_codificada = quote(mensagem)\n",
    "\n",
    "    # Abrindo a conversa com o nmr no WhatsApp Web\n",
    "    link = f\"https://web.whatsapp.com/send?phone={numero}&text={mensagem_codificada}\"\n",
    "    driver.get(link)\n",
    "\n",
    "    # Aguardar até que o campo de mensagem esteja visível\n",
    "    try:\n",
    "        # Espera a caixa de texto se tornar visível\n",
    "        caixa_texto = WebDriverWait(driver, 30).until(\n",
    "            EC.visibility_of_element_located((By.XPATH, '//div[@contenteditable=\"true\"][@data-tab=\"1\"]'))\n",
    "        )\n",
    "        # Clica na caixa de texto para garantir que o foco está lá\n",
    "        caixa_texto.click()\n",
    "        # Envia a mensagem\n",
    "        caixa_texto.send_keys(mensagem) # Digita a mensagem\n",
    "        caixa_texto.send_keys(Keys.RETURN) # Simula pressionamento da tecla Enter para enviar a mensagem\n",
    "\n",
    "        print(f\"Mensagem enviada para {numero}\")\n",
    "        time.sleep(5) # Espera para garantir que a mensagem foi enviada\n",
    "    except Exception as e:\n",
    "        print(f\"Erro ao enviar mensagem para {numero}: {e}\")\n",
    "\n",
    "# Configurando o driver e abrindo o WhatsApp Web\n",
    "driver = webdriver.Chrome(service=webdriver.chrome.service.Service(ChromeDriverManager().install()))\n",
    "driver.get('https://web.whatsapp.com/')\n",
    "time.sleep(30) # Aguarde até que o WhatsApp Web carregue e você escaneie o QR code\n",
    "\n",
    "# Lista de número e mensagem\n",
    "numeros = ['4497169703']\n",
    "mensagem = \"Mensagem teste\"\n",
    "\n",
    "# Enviando mensagens\n",
    "for numero in numeros:\n",
    "    enviar_mensagem(numero, mensagem)\n",
    "\n",
    "# Fechando o navegador\n",
    "driver.quit()\n"
   ]
  },
  {
   "cell_type": "code",
   "execution_count": null,
   "metadata": {},
   "outputs": [],
   "source": []
  }
 ],
 "metadata": {
  "kernelspec": {
   "display_name": "base",
   "language": "python",
   "name": "python3"
  },
  "language_info": {
   "codemirror_mode": {
    "name": "ipython",
    "version": 3
   },
   "file_extension": ".py",
   "mimetype": "text/x-python",
   "name": "python",
   "nbconvert_exporter": "python",
   "pygments_lexer": "ipython3",
   "version": "3.12.7"
  }
 },
 "nbformat": 4,
 "nbformat_minor": 2
}
