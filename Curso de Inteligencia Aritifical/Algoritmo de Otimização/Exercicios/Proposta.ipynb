{
 "cells": [
  {
   "cell_type": "markdown",
   "metadata": {},
   "source": [
    "<h2>Exercicio</h2>\n",
    "\n",
    "Considerar uma empresa, que possui 14 produtos, que precisam ser transportados em um caminhão para levar para as filiais da empresa.\n",
    "\n",
    "Cada produto irá ter as seguintes caracteristicas:\n",
    "+ Nome\n",
    "+ Espaço que ocupa em M<sup>3</sup>\n",
    "+ Preço de venda\n",
    "\n",
    "Caracteristicas do Caminhão:\n",
    "+ 3m<sup>3</sup>;\n",
    "\n",
    "Considerações:\n",
    "+ O valor de espaço ocupado por todos os produtos, é de 4,79m<sup>3</sup>\n",
    "+ Considerar para a representação do problema:\n",
    "    + [0, 1, 1, 1, 0, 1, 1, 1, 0, 1, 1, 1, 0, 0]\n",
    "    + 1 = Carrega o produto\n",
    "    + 0 = Não carrega o produto\n",
    "+ Fazer nos três algoritmos, para buscar o melhor resultado.\n",
    "\n",
    "<h4>Objetivo do exercicio</h4>\n",
    "\n",
    "+ Conseguir levar a maior quantidade de produtos possiveis, considerando o espaço limitado."
   ]
  }
 ],
 "metadata": {
  "language_info": {
   "name": "python"
  }
 },
 "nbformat": 4,
 "nbformat_minor": 2
}
