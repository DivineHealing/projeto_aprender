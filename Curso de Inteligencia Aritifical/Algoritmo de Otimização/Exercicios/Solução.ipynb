{
 "cells": [
  {
   "cell_type": "code",
   "execution_count": 1,
   "metadata": {},
   "outputs": [],
   "source": [
    "# PRODUTO = [ ('NOME DO PRODUTO', 'ESPAÇO EM m³', 'VALOR DO PRODUTO') ]\n",
    "\n",
    "produtos = [('Celular',0.0000899, 2199.12),\n",
    "    ('Micro-ondas A', 0.0424, 306.66),\n",
    "    ('Micro-ondas B', 0.0544, 429.90),\n",
    "    ('Micro-ondas C', 0.0319, 299.29),\n",
    "    ('Notebook A', 0.00350, 2499.90),\n",
    "    ('Notebook B', 0.498, 1999.90),\n",
    "    ('Notebook C', 0.527, 3999.0),\n",
    "    ('Refrigerador A', 0.751, 999.90),\n",
    "    ('Refrigerador B', 0.635, 849.0),\n",
    "    ('Refrigerador C', 0.870, 1199.89),\n",
    "    ('TV 50p A', 0.400, 4346.99),\n",
    "    ('TV 50p B', 0.290, 3999.9),\n",
    "    ('TV 42p', 0.200, 2999.9),\n",
    "    ('Ventilador', 0.496, 199.90)\n",
    "    ]\n",
    "\n",
    "# [0] = produto\n",
    "# [1] = Espaco ocupado em m³\n",
    "# [2] = Valor do produto\n",
    "\n",
    "espaco_carregamento = 3\n",
    "\n",
    "32lk451c"
   ]
  },
  {
   "cell_type": "code",
   "execution_count": 2,
   "metadata": {},
   "outputs": [],
   "source": [
    "def imprimir_solucao(solucao): # Aqui será impresso a Solução, o parametro solução (lista com 14 posições binarias)\n",
    "    for i in range(len(solucao)): # Aqui será percorrido cada elemento da solução, validando a posição.\n",
    "        if solucao[i] == 1:\n",
    "            print('%s - %s' %(produtos[i][0], produtos[i][2]))"
   ]
  },
  {
   "cell_type": "code",
   "execution_count": 3,
   "metadata": {},
   "outputs": [
    {
     "name": "stdout",
     "output_type": "stream",
     "text": [
      "Micro-ondas A - 306.66\n",
      "Micro-ondas B - 429.9\n",
      "Micro-ondas C - 299.29\n",
      "Notebook B - 1999.9\n",
      "Notebook C - 3999.0\n",
      "Refrigerador A - 999.9\n",
      "Refrigerador C - 1199.89\n",
      "TV 50p A - 4346.99\n",
      "TV 50p B - 3999.9\n"
     ]
    }
   ],
   "source": [
    "imprimir_solucao([0, 1, 1, 1, 0, 1, 1, 1, 0, 1, 1, 1, 0, 0])"
   ]
  },
  {
   "cell_type": "code",
   "execution_count": 4,
   "metadata": {},
   "outputs": [],
   "source": [
    "def fitness_functon(solucao):\n",
    "    total_peso = 0\n",
    "    total_valor = 0\n",
    "    for i in range(len(solucao)):\n",
    "        if solucao[i] == 1:\n",
    "            total_valor += produtos[i][2]\n",
    "            total_peso += produtos[i][1]\n",
    "            \n",
    "    if total_peso > espaco_carregamento:\n",
    "        total_valor = 1\n",
    "        \n",
    "    return total_valor"
   ]
  },
  {
   "cell_type": "code",
   "execution_count": 5,
   "metadata": {},
   "outputs": [
    {
     "data": {
      "text/plain": [
       "9005.44"
      ]
     },
     "execution_count": 5,
     "metadata": {},
     "output_type": "execute_result"
    }
   ],
   "source": [
    "fitness_functon([0, 1, 0, 1, 0, 1, 0, 1, 0, 1, 0, 1, 0, 1])"
   ]
  },
  {
   "cell_type": "code",
   "execution_count": 6,
   "metadata": {},
   "outputs": [],
   "source": [
    "import six\n",
    "import sys\n",
    "sys.modules['sklearn.externals.six'] = six\n",
    "import mlrose"
   ]
  },
  {
   "cell_type": "code",
   "execution_count": 7,
   "metadata": {},
   "outputs": [],
   "source": [
    "\n",
    "fitness = mlrose.CustomFitness(fitness_functon)"
   ]
  },
  {
   "cell_type": "code",
   "execution_count": 8,
   "metadata": {},
   "outputs": [],
   "source": [
    "problema = mlrose.DiscreteOpt(length=14, fitness_fn=fitness, maximize=True, max_val=2)"
   ]
  },
  {
   "cell_type": "code",
   "execution_count": 16,
   "metadata": {},
   "outputs": [
    {
     "data": {
      "text/plain": [
       "(array([1, 1, 0, 1, 1, 1, 1, 1, 1, 0, 0, 1, 1, 0], dtype=int32), 20152.57)"
      ]
     },
     "execution_count": 16,
     "metadata": {},
     "output_type": "execute_result"
    }
   ],
   "source": [
    "# HILL\n",
    "\n",
    "melhor_solucao, melhor_custo = mlrose.hill_climb(problema, random_state = 1)\n",
    "\n",
    "melhor_solucao, melhor_custo"
   ]
  },
  {
   "cell_type": "code",
   "execution_count": 10,
   "metadata": {},
   "outputs": [
    {
     "name": "stdout",
     "output_type": "stream",
     "text": [
      "Celular - 2199.12\n",
      "Micro-ondas A - 306.66\n",
      "Micro-ondas C - 299.29\n",
      "Notebook A - 2499.9\n",
      "Notebook B - 1999.9\n",
      "Notebook C - 3999.0\n",
      "Refrigerador A - 999.9\n",
      "Refrigerador B - 849.0\n",
      "TV 50p B - 3999.9\n",
      "TV 42p - 2999.9\n"
     ]
    }
   ],
   "source": [
    "imprimir_solucao(melhor_solucao)"
   ]
  },
  {
   "cell_type": "code",
   "execution_count": 32,
   "metadata": {},
   "outputs": [
    {
     "name": "stdout",
     "output_type": "stream",
     "text": [
      "Celular - 2199.12\n",
      "Micro-ondas A - 306.66\n",
      "Micro-ondas B - 429.9\n",
      "Micro-ondas C - 299.29\n",
      "Notebook A - 2499.9\n",
      "Notebook C - 3999.0\n",
      "Refrigerador A - 999.9\n",
      "Refrigerador B - 849.0\n",
      "TV 50p A - 4346.99\n",
      "TV 50p B - 3999.9\n",
      "TV 42p - 2999.9\n",
      "\n",
      "O Total foi: R$ 22929.56\n"
     ]
    }
   ],
   "source": [
    "# Simulated Annealing\n",
    "\n",
    "melhor_solucao, melhor_custo = mlrose.simulated_annealing(problema)\n",
    "\n",
    "imprimir_solucao(melhor_solucao)\n",
    "\n",
    "\n",
    "print(f'\\nO Total foi: R$ {melhor_custo:.2f}' )"
   ]
  },
  {
   "cell_type": "code",
   "execution_count": 37,
   "metadata": {},
   "outputs": [
    {
     "name": "stdout",
     "output_type": "stream",
     "text": [
      "Celular - 2199.12\n",
      "Micro-ondas A - 306.66\n",
      "Micro-ondas B - 429.9\n",
      "Micro-ondas C - 299.29\n",
      "Notebook A - 2499.9\n",
      "Notebook B - 1999.9\n",
      "Notebook C - 3999.0\n",
      "Refrigerador C - 1199.89\n",
      "TV 50p A - 4346.99\n",
      "TV 50p B - 3999.9\n",
      "TV 42p - 2999.9\n",
      "\n",
      "O Total foi: R$ 24280.45\n"
     ]
    }
   ],
   "source": [
    "# Algoritmo Genetico\n",
    "melhor_solucao, melhor_custo = mlrose.genetic_alg(problema, pop_size=500, mutation_prob=0.5)\n",
    "\n",
    "\n",
    "imprimir_solucao(melhor_solucao)\n",
    "\n",
    "print(f'\\nO Total foi: R$ {melhor_custo:.2f}' )"
   ]
  }
 ],
 "metadata": {
  "kernelspec": {
   "display_name": "base",
   "language": "python",
   "name": "python3"
  },
  "language_info": {
   "codemirror_mode": {
    "name": "ipython",
    "version": 3
   },
   "file_extension": ".py",
   "mimetype": "text/x-python",
   "name": "python",
   "nbconvert_exporter": "python",
   "pygments_lexer": "ipython3",
   "version": "3.12.7"
  }
 },
 "nbformat": 4,
 "nbformat_minor": 2
}
