{
 "cells": [
  {
   "cell_type": "markdown",
   "metadata": {},
   "source": [
    "<h2><strong>Algoritmos de Optimização</strong></h2>"
   ]
  },
  {
   "cell_type": "markdown",
   "metadata": {},
   "source": [
    "+ Algoritmo de busca X Algoritmo de otimização\n",
    "    + Algoritmo de busca: Nos temos um objetivo, que seria nosso estado final. Porêm temos tambem nosso estado inicial, e os estados que passamos para chegar ao estado final.\n",
    "    + Algoritmo de otimização: Nos iremos maximinizar e/ou minimizar um tipo de valor, por exemplo, uma empresa maximinizar os lucros e minimizar as despesas.\n",
    "\n",
    "+ Heurísticas X Metaheurísticas\n",
    "    + As Heurísticas são especificas são especificas de um problema;\n",
    "    + As Metaheurísticas são algoritmos que fazem algum tipo de processamento, que levam ao objetivo tambem.\n",
    "\n",
    "+ Iremos trabalhar com três algoritmos de otimização, sendo cada uma diferente e os mais classicos, sendo eles:\n",
    "    + **Hill climb** (subida da encosta)\n",
    "        + Ele funciona com uma solução aleatoria e procura pelos melhores visinhos, ou seja, ele vai começar em um ponto aleatorio com maior \"curvatura\" e então começa a descer a \"montanha\" em busca do melhor resultado.\n",
    "        + Um exemplo seria, temos 10 voos disponiveis, ele vai para o voo 6 por exemplo, e comparar se o voo 5 e 7 tem um melhor valor que o voo 6 e então fazer sua descida.\n",
    "        + Existe o Maximo global (quando queremos encontrar, por exemplo, o maior lucro), o maximo local seria os outros pontos.\n",
    "        + Vai gerar uma lista com varios vizinhos, vizinhos mais proximos.\n",
    "        + Caso um resultado de uma solução for pior do que ele procurou, ele irá descartar essa opção e buscar uma nova.\n",
    "    + **Simulated annealing** (Têmpera simulada)\n",
    "        + Inspirado na forja, quando se aquece o material ate ficar incandescente e o coloca pra esfriar naturalmente;\n",
    "        + o simulated annealing começa com uma solução aleatoria, utilizando uma variavel que representa a temperatura (começa alta e abaixa no decorrer do algoritmo), no caso ele vai parar o algoritmo quando os vizinhos não tiverem uma solução melhor que o atual. Por exemplo, setamos a \"temperatura\" em 10.000°C, e a cada rodada ele vai esfriando o material.\n",
    "        + Se a solução é pior que a anterior, ainda existe uma probabilidade de selecioná-la, diferente do hill climb, ele vai para uma solução ruim, para depois encontrar uma boa solução.\n",
    "    + **Algoritmo genético**\n",
    "        + Esse algoritmo é o principal de otimização, possuindo melhores resultados utilizando essa tecnica.\n",
    "        + Cria uma população inicial, que é o conjunto de varias soluções aleatorias. \n",
    "            + Cada uma das listas de solução é um individuo. \n",
    "            + Cromossomo de cada individuo são os pares de voos. \n",
    "            + Genes são os dados presente\n",
    "        + Após a criação da população, iremos avaliar a população.\n",
    "        + Gerações:\n",
    "            + A quantidade de gerações vai ser nosso criterio de parada;\n",
    "            + Os pais vão ser aqueles individuos, com os melhores genes, para gerar novamente a proxima população.\n",
    "                + Crossover: eu faço um cruzamento entre as melhores soluções, gerando novas baseadas nos pais\n",
    "                + Mutação: Um dos genes será mutado, modificado, para trazer novos resultados.\n",
    "            + Assim que a proxima geração é feita e avaliada, então definida como uma população sobrevivente, assim repetindo o ciclo de acordo com a quantia de gerações definidas.\n",
    "        + Lista as melhores gerações.\n",
    "        \n",
    "\n",
    "+ Estudo de caso dos voos e transporte de produtos.\n",
    "    + Iremos trabalhar com a **minimização** do valor das parcelas, ou seja, buscaremos os menores valores.\n",
    "\n",
    "<h5>Estudo de Caso</h5>\n",
    "Em algumas cidades, em paises diferentes na Europa, um grupo de amigos irá se encontrar na Itália. Cada uma dessas pessoas vai estar em uma cidade especifica, sendo:\n",
    "\n",
    "+ Lisboa, Portugal\n",
    "+ Madri, Espanha\n",
    "+ Paris, França\n",
    "+ Bruxelas, Belgica\n",
    "+ Londres, Reino Unido\n",
    "+ Dublin, Irlanda\n",
    "\n",
    "O Objetivo dessas pessoas:\n",
    "+ Pegar um voo da sua cidade, com destino a Roma, Italia\n",
    "\n",
    "Depois que chegaram em roma, seu destino, elas vão alugar e compartilhar uma van, indo ao centro da cidade para assinarem um contrato.\n",
    "Após realizarem essa reunião e assinar o contrato, vão compartilhar novamente aquela van e então se dirigir para o aeroporto, assim seguindo de volta para sua cidade de origem.\n",
    "\n",
    "OBJETIVO DO ALGORITMO:\n",
    "+ Conseguir reduzir os gastos de viagem de cada um dos passageiros destacados."
   ]
  }
 ],
 "metadata": {
  "language_info": {
   "name": "python"
  }
 },
 "nbformat": 4,
 "nbformat_minor": 2
}
