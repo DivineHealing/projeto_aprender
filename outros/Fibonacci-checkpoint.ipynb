{
 "cells": [
  {
   "cell_type": "code",
   "execution_count": null,
   "id": "fefa8bed-1730-4fd4-8fef-9e9fce636a40",
   "metadata": {},
   "outputs": [],
   "source": [
    "def fibonacci(n):\n",
    "    if n in (0, 1):\n",
    "        return n\n",
    "    return (fibonacci(n - 2) + fibonacci(n - 1))"
   ]
  },
  {
   "cell_type": "code",
   "execution_count": null,
   "id": "c8eaa821-2118-418f-885b-056cd4945e04",
   "metadata": {},
   "outputs": [],
   "source": [
    "fibonacci(10)"
   ]
  },
  {
   "cell_type": "code",
   "execution_count": null,
   "id": "dabb21eb-44fa-460c-9b53-ea3867e9f6ee",
   "metadata": {},
   "outputs": [],
   "source": [
    "# Função LAMBDA\n",
    "\n",
    "(lambda base, altura: base * altura)(2, 2)"
   ]
  },
  {
   "cell_type": "code",
   "execution_count": null,
   "id": "b1f14a2f",
   "metadata": {},
   "outputs": [],
   "source": [
    "# LISTA\n",
    "modelos = [\n",
    "    {'marca':'MI', 'tela':6.8, 'cor':'Dourado'},\n",
    "    {'marca':'Samsung', 'tela':6.1, 'cor':'Preto'},\n",
    "    {'marca':'Apple', 'tela':7.2, 'cor':'Azul'},\n",
    "    {'marca':'Nokia', 'tela':5.5, 'cor':'Verde'}\n",
    "]"
   ]
  },
  {
   "cell_type": "code",
   "execution_count": null,
   "id": "85c67746",
   "metadata": {},
   "outputs": [],
   "source": [
    "modelos_ordenados = sorted(modelos, key=lambda x: x['marca'])\n",
    "\n",
    "modelos_ordenados"
   ]
  },
  {
   "cell_type": "code",
   "execution_count": null,
   "id": "40059918",
   "metadata": {},
   "outputs": [],
   "source": [
    "# função REDUCE\n",
    "from functools import reduce\n",
    "import numpy as np\n",
    "\n",
    "maior_tela = reduce(lambda a, b: b['tela'] if b['tela'] > a else a, modelos, 0)\n",
    "maior_tela"
   ]
  },
  {
   "cell_type": "code",
   "execution_count": null,
   "id": "9e462ae9",
   "metadata": {},
   "outputs": [],
   "source": [
    "#função FILTER\n",
    "\n",
    "modelos_cor_preta = filter(lambda x: (x['cor'] == 'Preto'), modelos)\n",
    "list(modelos_cor_preta)"
   ]
  },
  {
   "cell_type": "code",
   "execution_count": null,
   "id": "35fc5f9d",
   "metadata": {},
   "outputs": [],
   "source": [
    "#\n",
    "\n",
    "def descricao(modelo):\n",
    "    modelo['descricao'] = f\"Celular da marca {modelo['marca']} tem a tela:{modelo['tela']} da cor: {modelo['cor']}\"\n",
    "    \n",
    "    return modelo\n"
   ]
  },
  {
   "cell_type": "code",
   "execution_count": null,
   "id": "ab880ed4",
   "metadata": {},
   "outputs": [],
   "source": [
    "modelos_descricao = map(lambda x:descricao(x), modelos)\n",
    "list(modelos_descricao)"
   ]
  },
  {
   "cell_type": "code",
   "execution_count": null,
   "id": "fd752fd4",
   "metadata": {},
   "outputs": [],
   "source": [
    "def converte(b, c, d):\n",
    "    def a(x):\n",
    "        return b( c( d(x)))\n",
    "    return a\n",
    "\n",
    "def dias_em_hora(time):\n",
    "    return time * 24\n",
    "\n",
    "def horas_em_minutos(time):\n",
    "    return time * 60\n",
    "\n",
    "def minutos_em_segundos(time):\n",
    "    return time * 60\n",
    "\n",
    "conversor_dia_ms = converte(minutos_em_segundos, horas_em_minutos, dias_em_hora)\n",
    "\n",
    "conversor_dia_ms(1)\n"
   ]
  },
  {
   "cell_type": "code",
   "execution_count": null,
   "id": "9a0800fd",
   "metadata": {},
   "outputs": [],
   "source": [
    "cores = ['preto', 'branco']\n",
    "tamanhos = ['S', 'M', 'L']"
   ]
  },
  {
   "cell_type": "code",
   "execution_count": null,
   "id": "a9db561d",
   "metadata": {},
   "outputs": [],
   "source": [
    "tshirts = []\n",
    "for color in cores:\n",
    "    for size in tamanhos:\n",
    "        tshirts.append((color, size))\n",
    "\n",
    "tshirts"
   ]
  },
  {
   "cell_type": "code",
   "execution_count": null,
   "id": "9cf3e075",
   "metadata": {},
   "outputs": [],
   "source": [
    "\n",
    "\n",
    "tshirts = [(color, size) for color in cores for size in tamanhos]\n",
    "tshirts"
   ]
  },
  {
   "cell_type": "code",
   "execution_count": null,
   "id": "03171161",
   "metadata": {},
   "outputs": [],
   "source": [
    "list(range(10))"
   ]
  },
  {
   "cell_type": "code",
   "execution_count": null,
   "id": "b5de4ca5",
   "metadata": {},
   "outputs": [],
   "source": [
    "# 'ABC' é uma iterable\n",
    "\n",
    "s = 'ABC'\n",
    "for char in s:\n",
    "    print(char)"
   ]
  },
  {
   "cell_type": "code",
   "execution_count": null,
   "id": "63819aca",
   "metadata": {},
   "outputs": [],
   "source": [
    "s = 'ABC'\n",
    "it = iter(s)\n",
    "while True:\n",
    "    try: # ele TENTA fazer algo, quando não consegue, ele estora um EXCEPT.\n",
    "        print(next(it))\n",
    "    except StopIteration:\n",
    "        del it\n",
    "        break\n"
   ]
  },
  {
   "cell_type": "code",
   "execution_count": null,
   "id": "26cdeab8",
   "metadata": {},
   "outputs": [],
   "source": [
    "# GERADORES ********** IMPORTANTE\n",
    "\n",
    "def gera_AB():\n",
    "    print('Start')\n",
    "    yield 'A'\n",
    "    print('Continue')\n",
    "    yield 'B'\n",
    "    print('End')\n",
    "\n",
    "for c in gera_AB():\n",
    "    print('-->', c)"
   ]
  },
  {
   "cell_type": "code",
   "execution_count": null,
   "id": "f90270d2",
   "metadata": {},
   "outputs": [],
   "source": [
    "g = gera_AB()\n",
    "print(next(g))\n",
    "print(next(g))\n",
    "print(next(g))\n"
   ]
  },
  {
   "cell_type": "code",
   "execution_count": null,
   "id": "8e42c493",
   "metadata": {},
   "outputs": [],
   "source": [
    "import asyncio\n",
    "\n",
    "async def factorial(name, number):\n",
    "    f = 1\n",
    "    for i in range(2, number + 1):\n",
    "        print(f\"Task {name}: Compute Factorial({i})...\")\n",
    "        await asyncio.sleep(1)\n",
    "        f *= i\n",
    "    print(f\"Taks {name}: factorial({number}) = {f}\")\n",
    "\n",
    "async def main():\n",
    "    # Scheudule three caçç *concurrently*:\n",
    "    await asyncio.gather(\n",
    "        factorial(\"A\", 2),\n",
    "        factorial(\"B\", 3),\n",
    "        factorial(\"C\", 4),\n",
    "    )\n",
    "\n",
    "await main()"
   ]
  }
 ],
 "metadata": {
  "kernelspec": {
   "display_name": "base",
   "language": "python",
   "name": "python3"
  },
  "language_info": {
   "codemirror_mode": {
    "name": "ipython",
    "version": 3
   },
   "file_extension": ".py",
   "mimetype": "text/x-python",
   "name": "python",
   "nbconvert_exporter": "python",
   "pygments_lexer": "ipython3",
   "version": "3.12.7"
  }
 },
 "nbformat": 4,
 "nbformat_minor": 5
}
