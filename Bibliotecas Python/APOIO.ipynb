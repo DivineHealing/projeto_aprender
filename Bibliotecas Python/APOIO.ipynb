{
 "cells": [
  {
   "cell_type": "code",
   "execution_count": 2,
   "metadata": {},
   "outputs": [
    {
     "ename": "IndentationError",
     "evalue": "unexpected indent (1417991388.py, line 2)",
     "output_type": "error",
     "traceback": [
      "\u001b[1;36m  Cell \u001b[1;32mIn[2], line 2\u001b[1;36m\u001b[0m\n\u001b[1;33m    root_object = engine.rootObjects()[0]\u001b[0m\n\u001b[1;37m    ^\u001b[0m\n\u001b[1;31mIndentationError\u001b[0m\u001b[1;31m:\u001b[0m unexpected indent\n"
     ]
    }
   ],
   "source": [
    "# Obter o objeto raiz da interface    \n",
    "    root_object = engine.rootObjects()[0]\n",
    "    \n",
    "    # Acessar o Botão pelo ID\n",
    "    button = root_object.findChild(QObject, \"button\")    \n",
    "    \n",
    "    # Verificar se o botão foi encontrado e conectar ao sinal de clique\n",
    "    if button:\n",
    "        button.Clicked.connect(on_button_click)  # Conectar o sinal de clique ao slot"
   ]
  },
  {
   "cell_type": "code",
   "execution_count": 3,
   "metadata": {},
   "outputs": [
    {
     "ename": "NameError",
     "evalue": "name 'apoio' is not defined",
     "output_type": "error",
     "traceback": [
      "\u001b[1;31m---------------------------------------------------------------------------\u001b[0m",
      "\u001b[1;31mNameError\u001b[0m                                 Traceback (most recent call last)",
      "Cell \u001b[1;32mIn[3], line 26\u001b[0m\n\u001b[0;32m     22\u001b[0m             \u001b[38;5;28;01mreturn\u001b[39;00m jsonify({\u001b[38;5;124m\"\u001b[39m\u001b[38;5;124mmessage\u001b[39m\u001b[38;5;124m\"\u001b[39m: \u001b[38;5;124m\"\u001b[39m\u001b[38;5;124mLogin bem-sucedido\u001b[39m\u001b[38;5;124m\"\u001b[39m, \u001b[38;5;124m\"\u001b[39m\u001b[38;5;124mrole\u001b[39m\u001b[38;5;124m\"\u001b[39m: user[\u001b[38;5;124m\"\u001b[39m\u001b[38;5;124mrole\u001b[39m\u001b[38;5;124m\"\u001b[39m]})\n\u001b[0;32m     24\u001b[0m     \u001b[38;5;28;01mreturn\u001b[39;00m jsonify({\u001b[38;5;124m\"\u001b[39m\u001b[38;5;124mmessage\u001b[39m\u001b[38;5;124m\"\u001b[39m: \u001b[38;5;124m\"\u001b[39m\u001b[38;5;124mUsuário ou senha incorretos\u001b[39m\u001b[38;5;124m\"\u001b[39m}), \u001b[38;5;241m401\u001b[39m\n\u001b[1;32m---> 26\u001b[0m \u001b[38;5;28;01mif\u001b[39;00m apoio \u001b[38;5;241m==\u001b[39m \u001b[38;5;124m'\u001b[39m\u001b[38;5;124m__main__\u001b[39m\u001b[38;5;124m'\u001b[39m:\n\u001b[0;32m     27\u001b[0m     app\u001b[38;5;241m.\u001b[39mrun(debug\u001b[38;5;241m=\u001b[39m\u001b[38;5;28;01mTrue\u001b[39;00m)\n",
      "\u001b[1;31mNameError\u001b[0m: name 'apoio' is not defined"
     ]
    }
   ],
   "source": [
    "from flask import Flask, request, jsonify\n",
    "import bcrypt\n",
    "\n",
    "app = Flask('apoio')\n",
    "\n",
    "# Exemplo de banco de dados em memória\n",
    "users = [\n",
    "    {\"username\": \"test_user\", \"password\": bcrypt.hashpw(\"pass123\".encode(), bcrypt.gensalt()), \"role\": \"Desenvolvedor\"},\n",
    "    {\"username\": \"test_user\", \"password\": bcrypt.hashpw(\"pass456\".encode(), bcrypt.gensalt()), \"role\": \"QA\"},\n",
    "    {\"username\": \"test_user\", \"password\": bcrypt.hashpw(\"pass789\".encode(), bcrypt.gensalt()), \"role\": \"Gerente de Teste\"}\n",
    "]\n",
    "\n",
    "@app.route('/login', methods=['POST'])\n",
    "def login():\n",
    "    data = request.json\n",
    "    username = data.get('username')\n",
    "    password = data.get('password')\n",
    "    \n",
    "    # Verificar as combinações\n",
    "    for user in users:\n",
    "        if user['username'] == username and bcrypt.checkpw(password.encode(), user['password']):\n",
    "            return jsonify({\"message\": \"Login bem-sucedido\", \"role\": user[\"role\"]})\n",
    "    \n",
    "    return jsonify({\"message\": \"Usuário ou senha incorretos\"}), 401\n",
    "\n",
    "if apoio == '__main__':\n",
    "    app.run(debug=True)"
   ]
  }
 ],
 "metadata": {
  "kernelspec": {
   "display_name": "base",
   "language": "python",
   "name": "python3"
  },
  "language_info": {
   "codemirror_mode": {
    "name": "ipython",
    "version": 3
   },
   "file_extension": ".py",
   "mimetype": "text/x-python",
   "name": "python",
   "nbconvert_exporter": "python",
   "pygments_lexer": "ipython3",
   "version": "3.12.7"
  }
 },
 "nbformat": 4,
 "nbformat_minor": 2
}
