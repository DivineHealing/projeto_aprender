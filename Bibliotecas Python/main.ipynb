{
 "cells": [
  {
   "cell_type": "code",
   "execution_count": null,
   "metadata": {},
   "outputs": [],
   "source": [
    "# Obter o objeto raiz da interface    \n",
    "    root_object = engine.rootObjects()[0]\n",
    "    \n",
    "    # Acessar o Botão pelo ID\n",
    "    button = root_object.findChild(QObject, \"button\")    \n",
    "    \n",
    "    # Verificar se o botão foi encontrado e conectar ao sinal de clique\n",
    "    if button:\n",
    "        button.Clicked.connect(on_button_click)  # Conectar o sinal de clique ao slot"
   ]
  },
  {
   "cell_type": "code",
   "execution_count": null,
   "metadata": {},
   "outputs": [],
   "source": [
    "from flask import Flask, request, jsonify\n",
    "import bcrypt\n",
    "\n",
    "app = Flask(__name__)\n",
    "\n",
    "# Exemplo de banco de dados em memória\n",
    "users = [\n",
    "    {\"username\": \"test_user\", \"password\": bcrypt.hashpw(\"pass123\".encode(), bcrypt.gensalt()), \"role\": \"Desenvolvedor\"},\n",
    "    {\"username\": \"test_user\", \"password\": bcrypt.hashpw(\"pass456\".encode(), bcrypt.gensalt()), \"role\": \"QA\"},\n",
    "    {\"username\": \"test_user\", \"password\": bcrypt.hashpw(\"pass789\".encode(), bcrypt.gensalt()), \"role\": \"Gerente de Teste\"}\n",
    "]\n",
    "\n",
    "@app.route('/login', methods=['POST'])\n",
    "def login():\n",
    "    data = request.json\n",
    "    username = data.get('username')\n",
    "    password = data.get('password')\n",
    "    \n",
    "    # Verificar as combinações\n",
    "    for user in users:\n",
    "        if user['username'] == username and bcrypt.checkpw(password.encode(), user['password']):\n",
    "            return jsonify({\"message\": \"Login bem-sucedido\", \"role\": user[\"role\"]})\n",
    "    \n",
    "    return jsonify({\"message\": \"Usuário ou senha incorretos\"}), 401\n",
    "\n",
    "if __name__ == '__main__':\n",
    "    app.run(debug=True)"
   ]
  }
 ],
 "metadata": {
  "kernelspec": {
   "display_name": "base",
   "language": "python",
   "name": "python3"
  },
  "language_info": {
   "codemirror_mode": {
    "name": "ipython",
    "version": 3
   },
   "file_extension": ".py",
   "mimetype": "text/x-python",
   "name": "python",
   "nbconvert_exporter": "python",
   "pygments_lexer": "ipython3",
   "version": "3.12.7"
  }
 },
 "nbformat": 4,
 "nbformat_minor": 2
}
