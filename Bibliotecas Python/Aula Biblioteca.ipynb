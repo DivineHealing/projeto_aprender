{
 "cells": [
  {
   "cell_type": "markdown",
   "metadata": {},
   "source": [
    "<h3>Python - Bibliotecas</h3>\n",
    "\n",
    "Modulação:\n",
    "Seria o meio de criar uma API, onde vou criar um projeto e importar esse projeto auxiliar no meu principal. Assim utilizando as sintaxes de bibliotecas para esse arquivo, onde poderemos utilizar a estrutura do codigo produzido, como funções, por exemplo.\n",
    "\n",
    "Abaixo estará um exemplo de como seria o modelo de uma modulação, usando de maneira ficticia um arquivo auxiliar e um principal:"
   ]
  },
  {
   "cell_type": "code",
   "execution_count": null,
   "metadata": {},
   "outputs": [],
   "source": [
    "# ARQUIVO AUXILIAR\n",
    "\n",
    "def calcular(valor1, valor2):\n",
    "    return valor1*valor2"
   ]
  },
  {
   "cell_type": "code",
   "execution_count": null,
   "metadata": {},
   "outputs": [],
   "source": [
    "# ARQUIVO PRINCIPAL\n",
    "import teste as t\n",
    "\n",
    "print(t.calcular(10, 10))"
   ]
  },
  {
   "cell_type": "markdown",
   "metadata": {},
   "source": []
  }
 ],
 "metadata": {
  "kernelspec": {
   "display_name": "base",
   "language": "python",
   "name": "python3"
  },
  "language_info": {
   "codemirror_mode": {
    "name": "ipython",
    "version": 3
   },
   "file_extension": ".py",
   "mimetype": "text/x-python",
   "name": "python",
   "nbconvert_exporter": "python",
   "pygments_lexer": "ipython3",
   "version": "3.12.7"
  }
 },
 "nbformat": 4,
 "nbformat_minor": 2
}
