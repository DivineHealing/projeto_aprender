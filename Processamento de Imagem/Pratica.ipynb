{
 "cells": [
  {
   "cell_type": "markdown",
   "metadata": {},
   "source": [
    "<h3>Processamento de Imagem</h3>\n",
    "<h4>Dependencias necessárias</h4>\n",
    "\n",
    "<em>Todas as bibliotecas ja estão instaladas no **anaconda**</em>\n",
    "\n",
    "+ Matplotlib\n",
    "+ Numpy\n",
    "+ OpenCV\n",
    "+ Seaborn\n",
    "\n",
    "<h5>Caso não tiver as dependencias instaladas, utilizar:</h5>\n",
    "\n",
    "+ pip install opencv-python\n",
    "+ pip install matplotlib\n",
    "+ pip install numpy\n",
    "+ pip install seaborn\n",
    "\n",
    "<h4>Imagem Digital</h4>\n",
    "A Imagem digital é um quadro de pixels que representam uma série de valores de intensidade e que são ordenados dentro de um sistema de coordenadas (X, Y). De fato, trata-se apenas de um grande quadro serial de números que é interpretado por um computador para reproduzir digitalmente uma cena digital. (Cesaro, 2007, p.25)\n",
    "\n",
    "<h5>O Pixel</h5>\n",
    "\n",
    "+ Coordenada (X, Y)\n",
    "+ Valor (Cor)\n",
    "\n",
    "<h5>Fundamentos da Cor</h5>\n",
    "\n",
    "+ Cada Pixel carrega 3 valores de cor;\n",
    "+ Cada canal de cor tem 8 bits;\n",
    "+ Então, cada pixel armazena valores de cor em 24 bits;\n",
    "+ Imagem em 24 bits = 16 milhões de cores.\n",
    "\n",
    "Cor é a nossa percepção de diferentes comprimentos de onda de luz.<br>\n",
    "A Luz é um fenômeno físico, mas a cor depende da interação da luz com o nossos sistema visual, sendo, assim, um fenomeno psicofísico.<br>\n",
    "\n",
    "<h5>Resolução da Imagem</h5>\n",
    "\n",
    "A Resolução da imagem é medida em DPI - dots per inch( Pixels por Polegada)\n",
    "+   Balanceamento da Equação = Qualidade da Imagem X Tempo de processamento X Espaço de armazenamento;\n",
    "+   Mudança na dimensão da imagem (resize) é diferente de re-sampling\n",
    "+   A Correta definição de resolução é fundamental e depende da aplicação.\n",
    "\n",
    "<h5>Processamento de Formatação das Cores</h5>\n",
    "\n",
    "    Adtivo = RGB (Red Green Blue)\n",
    "    Substrativo = CMYK\n",
    "    Pigmentação = Cores Prímarias (Azul, Amarelo e Vermelho)\n",
    "\n",
    "<h5>Cores Primárias</h5>\n",
    "\n",
    "+ 88933 14082"
   ]
  },
  {
   "cell_type": "code",
   "execution_count": 2,
   "metadata": {},
   "outputs": [],
   "source": [
    "# Acesso aos pixels da imagem\n",
    "import numpy as np\n",
    "import cv2 # OpenCV\n",
    "import matplotlib.pyplot as plt\n",
    "from matplotlib import style\n",
    "import seaborn as sns\n",
    "\n",
    "\n"
   ]
  },
  {
   "cell_type": "markdown",
   "metadata": {},
   "source": [
    "<h4>Carregar imagem</h4>\n",
    "\n",
    "Carregar uma imagem a partir da web com !wget<br>\n",
    "\n",
    "Wget é uma ferramenta criada pelo GNU Project.<br>\n",
    "\n",
    "Usada para recuperar conteudos e arquivos de servidores na internet."
   ]
  },
  {
   "cell_type": "code",
   "execution_count": 2,
   "metadata": {},
   "outputs": [],
   "source": [
    "#wget -O 'image1.jpg' 'https://i1.wp.com/www.meusroteirosdeviagem.com/wp-content/uploads/2015/11/lisboa-transporte-publico.jpg'"
   ]
  },
  {
   "cell_type": "code",
   "execution_count": 3,
   "metadata": {},
   "outputs": [],
   "source": [
    "image = cv2.imread('../image1.jpg')"
   ]
  },
  {
   "cell_type": "code",
   "execution_count": 4,
   "metadata": {},
   "outputs": [],
   "source": [
    "cv2.imshow(\"janela\", image)"
   ]
  },
  {
   "cell_type": "markdown",
   "metadata": {},
   "source": [
    "<h4>Propriedades da Imagem</h4>"
   ]
  },
  {
   "cell_type": "code",
   "execution_count": null,
   "metadata": {},
   "outputs": [],
   "source": [
    "# O SHAPE é uma função do numpy e não do OpenCV\n",
    "print('Largura (w): %d pixels'% (image.shape[1]))\n",
    "print('Altura (h): %d pixels'% (image.shape[0]))\n",
    "print('Canais: %d'% (image.shape[2])) # Numero de canais de cores\n",
    "# Os 3 Canais, 3 cores: Vermelho, Verde, Azul; ou 01 Canal: Escala de cinza\n",
    "print('Tipo: ', image.dtype)\n",
    "\n",
    "\n",
    "# Alternativa\n",
    "print('Largura em Pixels : ', end='')\n",
    "print(image.shape[1]) # Largura da imagem\n",
    "print('Altura em Pixels : ', end='')\n",
    "print(image.shape[0]) # Altura da imagem\n",
    "print('Quantidade de canais : ', end='')\n",
    "print(image.shape[2])\n",
    "\n",
    "\n",
    "imageRGB = cv2.cvtColor(image, cv2.COLOR_BAYER_BG2RGB) # Converte das cores BGR para RGB"
   ]
  }
 ],
 "metadata": {
  "kernelspec": {
   "display_name": "base",
   "language": "python",
   "name": "python3"
  },
  "language_info": {
   "codemirror_mode": {
    "name": "ipython",
    "version": 3
   },
   "file_extension": ".py",
   "mimetype": "text/x-python",
   "name": "python",
   "nbconvert_exporter": "python",
   "pygments_lexer": "ipython3",
   "version": "3.12.7"
  }
 },
 "nbformat": 4,
 "nbformat_minor": 2
}
