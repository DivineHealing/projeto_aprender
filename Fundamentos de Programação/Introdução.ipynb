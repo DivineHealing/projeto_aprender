{
 "cells": [
  {
   "cell_type": "markdown",
   "metadata": {},
   "source": []
  },
  {
   "cell_type": "markdown",
   "metadata": {},
   "source": [
    "<h4>INTRODUÇÃO A PROGROGRAMAÇÃO</h4>\n",
    "\n",
    "<b>SOCIEDADE ALTAMENTE TECNOLOGICA</b>\n",
    "\n",
    "Pressman (2021) afirma que: \"Software de computadores continua a ser uma tecnologia única e mais importante no cenário mundial\".<br>\n",
    "Atualmente, temos softwares sendo utilizados em praticamente todas as atividades excercidas pelas pessoas.<br>\n",
    "\n",
    "• Software de sistema <br>\n",
    "• Software de aplicação <br>\n",
    "• Software cientifíco/de engenharia <br>\n",
    "• Software embutido <br>\n",
    "• Software de Inteligencia Aritifical <br>\n",
    "\n",
    "<i>AS 5 MAIORES TENDÊNCIAS DA INTERNET DAS COISAS PARA 2021. </i><br>\n",
    "\n",
    "A Internet das coisas(IoT) é uma das tendências tecnológicas mais proeminentes dos últimos anos. Em termos simples, refere-se ao fato de que, embora a internet inicialmente se referusse à rede em grande escala de computadores, hoje, dispositivos de todos os tamanhos e formas - de carros a utensílios  de cozinha a máquinas industriais - estão conectados e compartilhando informações digitalmente, em escala global.<br>\n",
    "\n",
    "<b>ANALISE DE CONTEXTO SOBRE PROGRAMAÇÃO DE SISTEMAS</b><br>\n",
    "\n",
    "Voê sendo um entusiasta por tecnologia decide desenvolver seus primeiros projetos. Por onde começar?<br>\n",
    "Existem diversas linguagens de programação do mercado, então por que estudar Python?<br>\n",
    "\n",
    "<h5>POSSIBILIDADES AO TRABALHAR COM PROGRAMAÇÃO</h5>\n",
    "\n",
    "Programador é o profissional responsável pelo desenvolvimento de um, sistema, o qual é pensado para resolver um problema ou atingir determinado objetivo.<br>\n",
    "O segmento de desenvolvimento de softwares é o que mais demanda profissionais.<br>\n",
    "Oportunidade em trabalhar em diversas áreas de TI e conhecimento<br>\n",
    "Possibilidade em atuar como analista de sistemas ou cientista de dados.<br>\n",
    "\n",
    "\n",
    "\n"
   ]
  },
  {
   "cell_type": "markdown",
   "metadata": {},
   "source": []
  }
 ],
 "metadata": {
  "kernelspec": {
   "display_name": "Python 3",
   "language": "python",
   "name": "python3"
  },
  "language_info": {
   "codemirror_mode": {
    "name": "ipython",
    "version": 3
   },
   "file_extension": ".py",
   "mimetype": "text/x-python",
   "name": "python",
   "nbconvert_exporter": "python",
   "pygments_lexer": "ipython3",
   "version": "3.12.7"
  }
 },
 "nbformat": 4,
 "nbformat_minor": 2
}
