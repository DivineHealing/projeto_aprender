{
 "cells": [
  {
   "cell_type": "markdown",
   "metadata": {},
   "source": [
    "<h3>Listas</h3>\n",
    "As listas são dados dados organizado em sequência.<br>\n",
    "\n",
    "Varios dados em uma \"variavel\" de mesmo nome.<br>\n",
    "+ Índice para acesso de cada posição\n",
    "\n",
    "Tipos de Dados<br>\n",
    "+ Geralmente são do mesmo tipo\n",
    "+ Permite armazenamento de tipos distintos\n",
    "\n",
    "**Sintaxe:**<br>\n",
    "<nome_da_lista> = [<'dados>]\n",
    "\n",
    "```python\n",
    "lista = []\n",
    "\n",
    "lista1 = [10, 20, 30]\n",
    "\n",
    "lista1.append(40)\n",
    "# Estou adicionando o numero 99.\n",
    "\n",
    "aux = lista.pop()\n",
    "# Remove um elemento declarado, ou então o ultimo da lista caso esteja vazio os ()\n",
    "\n",
    "print(lista[-1])\n",
    "# O valor negativo faz com que eu tenha acesso a lista de maneira contraria, sendo assim com o -1, eu visualizo o valor de 30 na lista.\n",
    "\n",
    "```\n",
    "\n",
    "Exemplo de uma Estrutura de Repetição em conjunto da Lista.\n",
    "\n",
    "```python\n",
    "lista = []\n",
    "\n",
    "for i in range(10):\n",
    "    print(\"O elemento da posição\", i)\n",
    "    dado = int(input(\"Insira um Nº: \"))\n",
    "    lista.append(dado)\n",
    "\n",
    "print(\"\\nLista Preenchida\\n\")\n",
    "\n",
    "for i in range(10):\n",
    "    print(f\"O Elemento da posição {i} é {lista[i]}\")\n",
    "```\n"
   ]
  }
 ],
 "metadata": {
  "language_info": {
   "name": "python"
  }
 },
 "nbformat": 4,
 "nbformat_minor": 2
}
