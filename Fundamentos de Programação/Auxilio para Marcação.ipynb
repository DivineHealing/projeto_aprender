{
 "cells": [
  {
   "cell_type": "markdown",
   "metadata": {},
   "source": [
    "<h3>Linguagem de Marcação do Anaconda</h3>\n",
    "\n",
    "*Essa linguagem utiliza como base o HTML, então deixarei alguns codigos para facilitar a escrita do texto.*\n",
    "\n",
    "\n",
    "**Negrito**<br>\n",
    "Existem duas maneiras de fazer o negrito, podendo ser presentado por dois asteriscos (*) no inicio e no fim, ou então com o HTML usando:<br>\n",
    "```HTML\n",
    "<b> \n",
    "<strong>\n",
    "```\n",
    "\n",
    "**Italico**<br>\n",
    "Assim como o negrito, o italico tambem possui duas maneiras de ser feito, sendo a utilização de um asterisco inicial e final, ou então com o HTML:<br>\n",
    "```HTML\n",
    "<em>\n",
    "```\n",
    "\n",
    "**Numeros Sub/Sobrescrita**<br>\n",
    "Esses numéros são utilizados em caso do m² por exemplo, mas as vezes para criar contas devemos deixar a formula preparada para começar nosso projeto, ou então deixar algum texto com as famosas letras miudas. Para colocar esse modelo de texto ou número, precisamos usar o HTML, assim sendo seu codigo:<br>\n",
    "```HTML\n",
    "<sup> Texto Sobrescrito\n",
    "<sub> Texto/Número Subscrito\n",
    "```\n",
    "\n",
    "**Listas, Sublistas e Tabelas**<br>\n",
    "As listas e sublistas, são aqueles pontinhos que deixamos a cada topico, e podemos fazer ele de uma maneira simples, utilizando identação e os simbolos de + e -, um exemplo de aplicação seria:\n",
    "\n",
    "+ Topico principal\n",
    "    - Subtopico\n",
    "\n",
    "As tabelas são feitas utilizando a seguinte estrutura:\n",
    "\n",
    "<table>\n",
    "  <tr>\n",
    "    <th>Ano</th>\n",
    "    <th>2010</th>\n",
    "    <th>2011</th>\n",
    "    <th>2012</th>\n",
    "  </tr>\n",
    "</table>\n",
    "\n",
    "Onde iniciamos a tabela, e preenchemos sua linha, fazendo uma por vez. <br>\n",
    "\n",
    "<b style=\"color:Red;\">Estilização de Texto</b><br>\n",
    "\n",
    "Textos coloridos, serve para destacar algumas palavras ou ate mesmo para estilizar um texto ou tabela.<br>\n",
    "\n",
    "Tambem podemos trazer um estilo um pouco mais diferente, ao utilizar a identação de texto, como por exemplo, deixar topicos mais interessantes como por exemplo:<br>\n",
    "\n",
    "    Subtitulo"
   ]
  }
 ],
 "metadata": {
  "language_info": {
   "name": "python"
  }
 },
 "nbformat": 4,
 "nbformat_minor": 2
}
