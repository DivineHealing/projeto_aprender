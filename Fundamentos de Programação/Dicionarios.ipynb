{
 "cells": [
  {
   "cell_type": "markdown",
   "metadata": {},
   "source": [
    "<H3>Dicionários</H3>"
   ]
  },
  {
   "cell_type": "markdown",
   "metadata": {},
   "source": [
    "Similares a listas<br>\n",
    "+ Utilizam termos no lugar dos índices de uma lista;\n",
    "+ Cada termo é associado a um conteúdo respectivo;\n",
    "    + Assim como em uma lista, cada posição guarda um valor distinto;\n",
    "+ Podem armazenar dados de tipos distintos;\n",
    "\n",
    "Sintaxe:<br>\n",
    "```python\n",
    "nome_do_dicionario = {\n",
    "    'termo 1': dado1,\n",
    "    'termo 2': dado2,\n",
    "    'termo n': dadoN\n",
    "}\n",
    "```\n",
    "\n",
    "<h5>Exemplo</h5>\n",
    "Desenvolva um programa cujo objetivo é guardar em uma mesma região de memória, os dados de um produto qualquer. Em uma situação generalista, cada produto possui um codigo, uma descrição, um preço e uma quantidade em estoque. Nesse caso o programa deve criar apenas um único produto de teste, com os compos acima listados. Em seguida, o programa pede para que o usuário preencha os dados do produto e, ao final, o algoritmo deve imprimir, na tela, os dados recèm informados via teclado. <br>\n",
    "\n",
    "<b>Solução</b>\n",
    "\n",
    "```python\n",
    "\n",
    "# produto['codigo'] = str(input(\"informe o codigo do produto: \")) Uma outra forma de fazer\n",
    "codigo = str(input(\"informe o codigo do produto: \"))\n",
    "nome = str(input(\"informe o nome do produto: \"))\n",
    "descricao = str(input(\"informe o descricao do produto: \"))\n",
    "preco = float(input(\"informe o preco do produto: \"))\n",
    "estoque = int(input(\"informe o estoque do produto: \"))\n",
    "\n",
    "produto = {\n",
    "    'codigo': codigo,\n",
    "    'nome': nome,\n",
    "    'descricao': descricao,\n",
    "    'preco': preco,\n",
    "    'estoque': estoque\n",
    "}\n",
    "\n",
    "\n",
    "print(f\"O produto {produto['nome']} de codigo {produto['codigo']}, com a descrição de {produto['descricao']}, possuindo o preço: R$ {produto['preco']}, temos em estoque {produto['estoque']} unidades.\")\n",
    "```"
   ]
  }
 ],
 "metadata": {
  "language_info": {
   "name": "python"
  }
 },
 "nbformat": 4,
 "nbformat_minor": 2
}
